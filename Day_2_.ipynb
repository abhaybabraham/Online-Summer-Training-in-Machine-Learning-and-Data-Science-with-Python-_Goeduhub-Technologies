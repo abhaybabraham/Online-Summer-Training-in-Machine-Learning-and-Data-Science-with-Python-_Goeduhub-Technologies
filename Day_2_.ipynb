{
  "nbformat": 4,
  "nbformat_minor": 0,
  "metadata": {
    "colab": {
      "name": "Day 2 .ipynb",
      "provenance": [],
      "collapsed_sections": []
    },
    "kernelspec": {
      "name": "python3",
      "display_name": "Python 3"
    },
    "language_info": {
      "name": "python"
    }
  },
  "cells": [
    {
      "cell_type": "markdown",
      "metadata": {
        "id": "Ls2x4SFoMjb_"
      },
      "source": [
        "## **Assignment/Task 1**"
      ]
    },
    {
      "cell_type": "markdown",
      "metadata": {
        "id": "bTQtvK69MvSd"
      },
      "source": [
        "**Reg NO : GO_STP_5034**"
      ]
    },
    {
      "cell_type": "markdown",
      "metadata": {
        "id": "xnHQiX-iNAFj"
      },
      "source": [
        "**1. We are having 3 list like this**\n",
        "\n",
        "**Colors** = [“Yellow”,”Green”,”White”,”Black”]      **Fruits**=[“Apple”,”Papaya”,”Mango”,”Orange”]     Animals=[“Tiger”,”Lion”,”Deer”,”Zebra”]\n",
        "\n",
        "\n",
        "  i. Write a program that asks user to enter a Color/Fruit/Animal name and it should tell which category belongs to , like its is a fruit or color or Animal\n",
        "\n",
        "\n",
        " ii. Write a program that asks user to enter two cities and it tells you if they both are in same country or not. For example if I enter yellow and Black, it will print \"Both are colors\" but if I enter yellow and Tiger it should print \"They don't belong to same category\""
      ]
    },
    {
      "cell_type": "code",
      "metadata": {
        "colab": {
          "base_uri": "https://localhost:8080/"
        },
        "id": "cu8aqLK9NBDB",
        "outputId": "ce60ef71-66da-4be3-8115-9e570b40e209"
      },
      "source": [
        "Colors = [\"Yellow\",\"Green\",\"White\",\"Black\"]\n",
        "Fruits=[\"Apple\",\"Papaya\",\"Mango\",\"Orange\"]\n",
        "Animals=[\"Tiger\",\"Lion\",\"Deer\",\"Zebra\"]\n",
        "input1=input().capitalize()\n",
        "if input1 in Colors:\n",
        "  print(\"COLOR\")\n",
        "elif input1 in Fruits:\n",
        "  print(\"FRUIT\")\n",
        "else:\n",
        "  print(\"ANIMAL\")"
      ],
      "execution_count": null,
      "outputs": [
        {
          "output_type": "stream",
          "text": [
            "tiger\n",
            "ANIMAL\n"
          ],
          "name": "stdout"
        }
      ]
    },
    {
      "cell_type": "code",
      "metadata": {
        "id": "LlF7w23xNO-O",
        "colab": {
          "base_uri": "https://localhost:8080/"
        },
        "outputId": "8903f31e-f2ff-45c4-a9ce-f55d5c39e226"
      },
      "source": [
        "catn=[\"Colors\",\"Fruits\",\"Animals\"]\n",
        "cat=[Colors,Fruits,Animals]\n",
        "f=False\n",
        "inp1=input().capitalize()\n",
        "inp2=input().capitalize()\n",
        "for i in range(3):\n",
        "  if inp1 in cat[i] and inp2 in cat[i]:\n",
        "    f=True\n",
        "    print(\"Both are\",catn[i])\n",
        "if not f:\n",
        "  print(\"They don't belong to same category\")"
      ],
      "execution_count": null,
      "outputs": [
        {
          "output_type": "stream",
          "text": [
            "apple\n",
            "mango\n",
            "Both are Fruits\n"
          ],
          "name": "stdout"
        }
      ]
    },
    {
      "cell_type": "markdown",
      "metadata": {
        "id": "VlIWfKIdl5Sj"
      },
      "source": [
        "**2.Write a python program that can tell you if your grade score good or not . Normal Score range is 40 to 60.**\n",
        "\n",
        "  i. Ask user to enter his score.\n",
        "\n",
        "  ii. If it is below 40 to 60 range then print that score is low\n",
        "\n",
        "  iii. If it is above 60 then print that it is good otherwise print that it is normal"
      ]
    },
    {
      "cell_type": "code",
      "metadata": {
        "colab": {
          "base_uri": "https://localhost:8080/"
        },
        "id": "e2bE1Scbl9TL",
        "outputId": "2d8e7cf4-4d1b-498c-92a8-c2eff0665b90"
      },
      "source": [
        "score=int(input())\n",
        "if score < 40:\n",
        "  print(\"score is low\")\n",
        "elif score<60:\n",
        "  print(\"score is normal\")\n",
        "else:\n",
        "  print(\"score is good\")"
      ],
      "execution_count": null,
      "outputs": [
        {
          "output_type": "stream",
          "text": [
            "75\n",
            "score is good\n"
          ],
          "name": "stdout"
        }
      ]
    },
    {
      "cell_type": "markdown",
      "metadata": {
        "id": "d0UzhjvZng-y"
      },
      "source": [
        "**3.  After appearing in exam 10 times you got this result,**\n",
        "\n",
        "result = [\"Pass\",\"Fail\",\"Fail\",\"Pass\",\"Fail\",\"Pass\",\"Pass\",\"Fail\",\"Fail\",\"Fail\"]\n",
        "\n",
        "Using for loop figure out how many times you got Pass"
      ]
    },
    {
      "cell_type": "code",
      "metadata": {
        "colab": {
          "base_uri": "https://localhost:8080/"
        },
        "id": "O4bpp-ohnlzV",
        "outputId": "8d8a08dc-376d-469c-ea2d-bd8f59939055"
      },
      "source": [
        "result = [\"Pass\",\"Fail\",\"Fail\",\"Pass\",\"Fail\",\"Pass\",\"Pass\",\"Fail\",\"Fail\",\"Fail\"]\n",
        "pass1 = 0\n",
        "for i in result:\n",
        "  if i ==\"Pass\":\n",
        "    pass1+=1\n",
        "print(pass1)"
      ],
      "execution_count": null,
      "outputs": [
        {
          "output_type": "stream",
          "text": [
            "4\n"
          ],
          "name": "stdout"
        }
      ]
    },
    {
      "cell_type": "markdown",
      "metadata": {
        "id": "7AaqbCGdomei"
      },
      "source": [
        "**4.  Write a program that prints following shape**"
      ]
    },
    {
      "cell_type": "code",
      "metadata": {
        "colab": {
          "base_uri": "https://localhost:8080/"
        },
        "id": "rPtGhHYFosli",
        "outputId": "1a6a7f73-c16e-45c5-a91c-8e9f6ce09dbd"
      },
      "source": [
        "for i in range(1,6):\n",
        "  for i in range(i):\n",
        "    print(\"*\",end=\" \")\n",
        "  print(\"\\n\")\n",
        "for i in range(4,0,-1):\n",
        "  for i in range(i):\n",
        "    print(\"*\",end=\" \")\n",
        "  print(\"\\n\")"
      ],
      "execution_count": null,
      "outputs": [
        {
          "output_type": "stream",
          "text": [
            "* \n",
            "\n",
            "* * \n",
            "\n",
            "* * * \n",
            "\n",
            "* * * * \n",
            "\n",
            "* * * * * \n",
            "\n",
            "* * * * \n",
            "\n",
            "* * * \n",
            "\n",
            "* * \n",
            "\n",
            "* \n",
            "\n"
          ],
          "name": "stdout"
        }
      ]
    },
    {
      "cell_type": "markdown",
      "metadata": {
        "id": "6SrvA09up9By"
      },
      "source": [
        "**5.   Lets say you are running a 50 km race. Write a program that,**\n",
        "\n",
        "Upon completing each 10 km asks you \"are you tired?\"\n",
        "If you reply \"yes\" then it should break and print \"you didn't finish the race\"\n",
        " If you reply \"no\" then it should continue and ask \"are you tired\" on every km\n",
        "If you finish all 50 km then it should print congratulations message"
      ]
    },
    {
      "cell_type": "code",
      "metadata": {
        "colab": {
          "base_uri": "https://localhost:8080/"
        },
        "id": "5eeZOclBqCFM",
        "outputId": "832dc66b-5282-44e7-bf58-f659616dfbb0"
      },
      "source": [
        "for i in range(0,50,10):\n",
        "  if i%10 == 0 and i>0:\n",
        "    in1=input(\"Are you tired??  :  \")\n",
        "    if in1 ==\"yes\":\n",
        "      print(\"you didn't finish the race\")\n",
        "      break\n",
        "if i+10 == 50:\n",
        "  print(\"congratulations\")\n"
      ],
      "execution_count": null,
      "outputs": [
        {
          "output_type": "stream",
          "text": [
            "Are you tired??  :  no\n",
            "Are you tired??  :  no\n",
            "Are you tired??  :  no\n",
            "Are you tired??  :  no\n",
            "congratulations\n"
          ],
          "name": "stdout"
        }
      ]
    },
    {
      "cell_type": "markdown",
      "metadata": {
        "id": "gQ9O_zlrs99b"
      },
      "source": [
        "**6.  Write a Python program to find those numbers which are divisible by 7 and multiple of 5, between 1500 and 2700 (both included).**"
      ]
    },
    {
      "cell_type": "code",
      "metadata": {
        "colab": {
          "base_uri": "https://localhost:8080/"
        },
        "id": "eVoXQ_4ttC_X",
        "outputId": "efced912-2019-4864-ccdd-7b86b5beb980"
      },
      "source": [
        "for i in range(1500,2701):\n",
        "  if i%7==0 and i%5==0:\n",
        "    print(i,end = \" \")"
      ],
      "execution_count": null,
      "outputs": [
        {
          "output_type": "stream",
          "text": [
            "1505 1540 1575 1610 1645 1680 1715 1750 1785 1820 1855 1890 1925 1960 1995 2030 2065 2100 2135 2170 2205 2240 2275 2310 2345 2380 2415 2450 2485 2520 2555 2590 2625 2660 2695 "
          ],
          "name": "stdout"
        }
      ]
    },
    {
      "cell_type": "markdown",
      "metadata": {
        "id": "RUUpeGPQtZvS"
      },
      "source": [
        "**7.   Print square of all numbers between 10 to 20 except even numbers**"
      ]
    },
    {
      "cell_type": "code",
      "metadata": {
        "colab": {
          "base_uri": "https://localhost:8080/"
        },
        "id": "zoR_B5U1tf2q",
        "outputId": "509d9f54-ec3b-4621-c370-cd3930438472"
      },
      "source": [
        "for i in range(11,21,2):\n",
        "  print(i**2,end=\" \")"
      ],
      "execution_count": null,
      "outputs": [
        {
          "output_type": "stream",
          "text": [
            "121 169 225 289 361 "
          ],
          "name": "stdout"
        }
      ]
    },
    {
      "cell_type": "markdown",
      "metadata": {
        "id": "McOJnrs3uE9X"
      },
      "source": [
        "**8.  Your Marks for five Test(test1 to test5) looks like this,**\n",
        "\n",
        "marks_list = [65, 75, 2100, 95, 83]\n",
        "\n",
        "Write a program that asks you to enter marks and program should tell you in which test that marks occurred. If marks is not found then it should print that as well."
      ]
    },
    {
      "cell_type": "code",
      "metadata": {
        "colab": {
          "base_uri": "https://localhost:8080/"
        },
        "id": "TP81utC1uMXj",
        "outputId": "85cf1b9d-2c89-458b-b0d6-23a69224bdf9"
      },
      "source": [
        "marks_list = [65, 75, 2100, 95, 83]\n",
        "mark=int(input())\n",
        "for idz,markz in enumerate(marks_list):\n",
        "  if mark not in marks_list:\n",
        "    print(\"mark not found\")\n",
        "    break\n",
        "  else:\n",
        "    if markz==mark:\n",
        "      print(idz+1)"
      ],
      "execution_count": null,
      "outputs": [
        {
          "output_type": "stream",
          "text": [
            "75\n",
            "2\n"
          ],
          "name": "stdout"
        }
      ]
    }
  ]
}